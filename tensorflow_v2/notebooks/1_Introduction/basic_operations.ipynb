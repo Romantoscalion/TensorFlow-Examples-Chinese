{
 "cells": [
  {
   "cell_type": "markdown",
   "metadata": {},
   "source": [
    "# Basic Tensor Operations - 基础操作\n",
    "\n",
    "Basic tensor operations using TensorFlow v2.\n",
    "使用TensorFlow v2的基本操作。\n",
    "\n",
    "- Author: Aymeric Damien\n",
    "- Project: https://github.com/aymericdamien/TensorFlow-Examples/"
   ]
  },
  {
   "cell_type": "code",
   "execution_count": 8,
   "metadata": {
    "ExecuteTime": {
     "end_time": "2024-07-18T10:26:27.814508Z",
     "start_time": "2024-07-18T10:26:27.810512Z"
    }
   },
   "outputs": [],
   "source": [
    "from __future__ import print_function\n",
    "import tensorflow as tf"
   ]
  },
  {
   "cell_type": "code",
   "execution_count": 9,
   "metadata": {
    "ExecuteTime": {
     "end_time": "2024-07-18T10:26:27.822514Z",
     "start_time": "2024-07-18T10:26:27.814508Z"
    }
   },
   "outputs": [],
   "source": [
    "# Define tensor constants. - 定义张量常量。\n",
    "a = tf.constant(2)\n",
    "b = tf.constant(3)\n",
    "c = tf.constant(5)"
   ]
  },
  {
   "cell_type": "code",
   "execution_count": 10,
   "metadata": {
    "ExecuteTime": {
     "end_time": "2024-07-18T10:26:27.830094Z",
     "start_time": "2024-07-18T10:26:27.822514Z"
    }
   },
   "outputs": [
    {
     "name": "stdout",
     "output_type": "stream",
     "text": [
      "add = 5\n",
      "sub = -1\n",
      "mul = 6\n",
      "div = 0.6666666666666666\n"
     ]
    }
   ],
   "source": [
    "# Various tensor operations. - 不同的张量基本运算操作。\n",
    "# Note: Tensors also support python operators (+, *, ...) -张量也支持Python运算符（+，*，...）。\n",
    "add = tf.add(a, b)\n",
    "sub = tf.subtract(a, b)\n",
    "mul = tf.multiply(a, b)\n",
    "div = tf.divide(a, b)\n",
    "\n",
    "# Access tensors value. - 转化为Numpy数组,并打印。\n",
    "print(\"add =\", add.numpy())\n",
    "print(\"sub =\", sub.numpy())\n",
    "print(\"mul =\", mul.numpy())\n",
    "print(\"div =\", div.numpy())"
   ]
  },
  {
   "cell_type": "code",
   "execution_count": 11,
   "metadata": {
    "ExecuteTime": {
     "end_time": "2024-07-18T10:26:27.836698Z",
     "start_time": "2024-07-18T10:26:27.830094Z"
    }
   },
   "outputs": [
    {
     "name": "stdout",
     "output_type": "stream",
     "text": [
      "mean = 3\n",
      "sum = 10\n"
     ]
    }
   ],
   "source": [
    "# Some more operations. - 其他操作。 \n",
    "mean = tf.reduce_mean([a, b, c]) # 求平均值的操作。\n",
    "sum = tf.reduce_sum([a, b, c]) # 求和的操作。\n",
    "\n",
    "# Access tensors value. - 转化为Numpy数组,并打印。\n",
    "print(\"mean =\", mean.numpy())\n",
    "print(\"sum =\", sum.numpy())"
   ]
  },
  {
   "cell_type": "code",
   "execution_count": 12,
   "metadata": {
    "ExecuteTime": {
     "end_time": "2024-07-18T10:26:27.842851Z",
     "start_time": "2024-07-18T10:26:27.836698Z"
    }
   },
   "outputs": [],
   "source": [
    "# Matrix multiplications. - 矩阵乘法。\n",
    "matrix1 = tf.constant([[1., 2.], [3., 4.]])\n",
    "matrix2 = tf.constant([[5., 6.], [7., 8.]])\n",
    "\n",
    "product = tf.matmul(matrix1, matrix2)"
   ]
  },
  {
   "cell_type": "code",
   "execution_count": 13,
   "metadata": {
    "ExecuteTime": {
     "end_time": "2024-07-18T10:26:27.850141Z",
     "start_time": "2024-07-18T10:26:27.842851Z"
    }
   },
   "outputs": [
    {
     "data": {
      "text/plain": "<tf.Tensor: shape=(2, 2), dtype=float32, numpy=\narray([[19., 22.],\n       [43., 50.]], dtype=float32)>"
     },
     "execution_count": 13,
     "metadata": {},
     "output_type": "execute_result"
    }
   ],
   "source": [
    "# Display Tensor. - 显示张量。\n",
    "product"
   ]
  },
  {
   "cell_type": "code",
   "execution_count": 14,
   "metadata": {
    "ExecuteTime": {
     "end_time": "2024-07-18T10:26:27.857213Z",
     "start_time": "2024-07-18T10:26:27.850141Z"
    }
   },
   "outputs": [
    {
     "data": {
      "text/plain": "array([[19., 22.],\n       [43., 50.]], dtype=float32)"
     },
     "execution_count": 14,
     "metadata": {},
     "output_type": "execute_result"
    }
   ],
   "source": [
    "# Convert Tensor to Numpy. - 转化为Numpy数组。\n",
    "product.numpy()"
   ]
  }
 ],
 "metadata": {
  "kernelspec": {
   "name": "python3",
   "language": "python",
   "display_name": "Python 3 (ipykernel)"
  },
  "language_info": {
   "codemirror_mode": {
    "name": "ipython",
    "version": 2
   },
   "file_extension": ".py",
   "mimetype": "text/x-python",
   "name": "python",
   "nbconvert_exporter": "python",
   "pygments_lexer": "ipython2",
   "version": "2.7.15"
  }
 },
 "nbformat": 4,
 "nbformat_minor": 2
}
