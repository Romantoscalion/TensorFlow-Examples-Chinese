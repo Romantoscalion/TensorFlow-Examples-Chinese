{
 "cells": [
  {
   "cell_type": "markdown",
   "metadata": {},
   "source": [
    "# Save & Restore a Model - 保存和读取模型\n",
    "\n",
    "Save and Restore a model using TensorFlow v2. In this example, we will go over both low and high-level approaches: \n",
    "- Low-level: TF Checkpoint.\n",
    "- High-level: TF Module/Model saver.\n",
    "\n",
    "使用 TensorFlow v2 保存和读取模型。在这个例子中，我们将介绍两种方法：\n",
    "- 低级：TF Checkpoint。\n",
    "- 高级：TF Module/Model saver。\n",
    "\n",
    "This example is using the MNIST database of handwritten digits as toy dataset\n",
    "(http://yann.lecun.com/exdb/mnist/).\n",
    "\n",
    "这个例子使用 MNIST 手写数字数据库作为数据集。\n",
    "\n",
    "- Author: Aymeric Damien\n",
    "- Project: https://github.com/aymericdamien/TensorFlow-Examples/"
   ]
  },
  {
   "cell_type": "code",
   "execution_count": 72,
   "metadata": {},
   "outputs": [],
   "source": [
    "from __future__ import absolute_import, division, print_function\n",
    "\n",
    "import tensorflow as tf\n",
    "import numpy as np\n",
    "import keras._tf_keras.keras.optimizers as optimizers"
   ]
  },
  {
   "cell_type": "code",
   "execution_count": 73,
   "metadata": {},
   "outputs": [],
   "source": [
    "# MNIST dataset parameters. - 数据集超参数\n",
    "num_classes = 10 # 0 to 9 digits - 数字种类, 0-9共10种\n",
    "num_features = 784 # 28*28 - 图片大小, 28*28=784 个特征\n",
    "\n",
    "# Training parameters. - 训练超参数\n",
    "learning_rate = 0.01\n",
    "training_steps = 1000\n",
    "batch_size = 256\n",
    "display_step = 50"
   ]
  },
  {
   "cell_type": "code",
   "execution_count": 74,
   "metadata": {},
   "outputs": [],
   "source": [
    "# Prepare MNIST data. - 准备 MNIST 数据以及数据预处理\n",
    "import keras.api.datasets.mnist as mnist\n",
    "(x_train, y_train), (x_test, y_test) = mnist.load_data()\n",
    "# Convert to float32. - 转换为 float32 类型（原先为 uint8 类型，代表0~255的灰度值）\n",
    "x_train, x_test = np.array(x_train, np.float32), np.array(x_test, np.float32)\n",
    "# Flatten images to 1-D vector of 784 features (28*28). - 将图像展平为 784 特征（28*28）\n",
    "x_train, x_test = x_train.reshape([-1, num_features]), x_test.reshape([-1, num_features])\n",
    "# Normalize images value from [0, 255] to [0, 1]. - 将图像的值从 [0, 255] 标准化到 [0, 1]\n",
    "x_train, x_test = x_train / 255., x_test / 255."
   ]
  },
  {
   "cell_type": "code",
   "execution_count": 75,
   "metadata": {},
   "outputs": [],
   "source": [
    "# Use tf.data API to shuffle and batch data. - 使用 tf.data API 来打乱 并 分批数据\n",
    "train_data = tf.data.Dataset.from_tensor_slices((x_train, y_train))\n",
    "train_data = train_data.repeat().shuffle(5000).batch(batch_size).prefetch(1)"
   ]
  },
  {
   "cell_type": "markdown",
   "metadata": {},
   "source": [
    "## 1) TF Checkpoint\n",
    "\n",
    "Basic logistic regression\n",
    "\n",
    "以一个简单的逻辑回归为例"
   ]
  },
  {
   "cell_type": "code",
   "execution_count": 76,
   "metadata": {},
   "outputs": [],
   "source": [
    "# Weight of shape [784, 10], the 28*28 image features, and total number of classes.\n",
    "# 权重矩阵的形状为 [784, 10]，代表 28*28 的图像特征和总类别数.这里只有一层神经网络\n",
    "W = tf.Variable(tf.random.normal([num_features, num_classes]), name=\"weight\")\n",
    "# Bias of shape [10], the total number of classes.\n",
    "# 偏置的形状为 [10]，代表总类别数\n",
    "b = tf.Variable(tf.zeros([num_classes]), name=\"bias\")\n",
    "\n",
    "# Logistic regression (Wx + b). - 逻辑回归模型\n",
    "def logistic_regression(x):\n",
    "    # Apply softmax to normalize the logits to a probability distribution.\n",
    "    # 使用 softmax 函数将逻辑回归的输出归一化为概率分布\n",
    "    return tf.nn.softmax(tf.matmul(x, W) + b)\n",
    "\n",
    "# Cross-Entropy loss function. - 交叉熵损失函数\n",
    "def cross_entropy(y_pred, y_true):\n",
    "    # Encode label to a one hot vector. - 将标签编码为 one-hot 向量,即正确的标签为1，其余为0\n",
    "    y_true = tf.one_hot(y_true, depth=num_classes)\n",
    "    # Clip prediction values to avoid log(0) error. - 防止 log(0) 错误\n",
    "    y_pred = tf.clip_by_value(y_pred, 1e-9, 1.)\n",
    "    # Compute cross-entropy. - 计算交叉熵\n",
    "    return tf.reduce_mean(-tf.reduce_sum(y_true * tf.math.log(y_pred)))\n",
    "\n",
    "# Accuracy metric. - 准确率评估方法\n",
    "def accuracy(y_pred, y_true):\n",
    "    # Predicted class is the index of highest score in prediction vector (i.e. argmax).\n",
    "    # 预测结果 是 预测结果向量 中得分最高的项的索引（即 argmax）\n",
    "    correct_prediction = tf.equal(tf.argmax(y_pred, 1), tf.cast(y_true, tf.int64))\n",
    "    return tf.reduce_mean(tf.cast(correct_prediction, tf.float32))\n",
    "\n",
    "# Adam optimizer. - Adam 优化器\n",
    "optimizer = optimizers.Adam(learning_rate)"
   ]
  },
  {
   "cell_type": "code",
   "execution_count": 77,
   "metadata": {},
   "outputs": [],
   "source": [
    "# Optimization process.  - 优化过程\n",
    "def run_optimization(x, y):\n",
    "    # Wrap computation inside a GradientTape for automatic differentiation.\n",
    "    # 使用梯度带自动计算梯度\n",
    "    with tf.GradientTape() as g:\n",
    "        pred = logistic_regression(x)\n",
    "        loss = cross_entropy(pred, y)\n",
    "\n",
    "        # Compute gradients. - 计算梯度\n",
    "        gradients = g.gradient(loss, [W, b])\n",
    "\n",
    "        # Update W and b following gradients. - 根据梯度更新 W 和 b\n",
    "        optimizer.apply_gradients(zip(gradients, [W, b]))"
   ]
  },
  {
   "cell_type": "code",
   "execution_count": 78,
   "metadata": {},
   "outputs": [
    {
     "name": "stdout",
     "output_type": "stream",
     "text": [
      "step: 50, loss: 794.371643, accuracy: 0.476562\n",
      "step: 100, loss: 407.682068, accuracy: 0.714844\n",
      "step: 150, loss: 271.101624, accuracy: 0.785156\n",
      "step: 200, loss: 194.569031, accuracy: 0.835938\n",
      "step: 250, loss: 194.399689, accuracy: 0.835938\n",
      "step: 300, loss: 199.207306, accuracy: 0.843750\n",
      "step: 350, loss: 227.731888, accuracy: 0.832031\n",
      "step: 400, loss: 221.454254, accuracy: 0.839844\n",
      "step: 450, loss: 131.556885, accuracy: 0.867188\n",
      "step: 500, loss: 138.140381, accuracy: 0.871094\n",
      "step: 550, loss: 123.082863, accuracy: 0.910156\n",
      "step: 600, loss: 129.521027, accuracy: 0.875000\n",
      "step: 650, loss: 140.932785, accuracy: 0.898438\n",
      "step: 700, loss: 110.293991, accuracy: 0.894531\n",
      "step: 750, loss: 113.051117, accuracy: 0.867188\n",
      "step: 800, loss: 156.307465, accuracy: 0.902344\n",
      "step: 850, loss: 95.922668, accuracy: 0.906250\n",
      "step: 900, loss: 70.903198, accuracy: 0.933594\n",
      "step: 950, loss: 92.833603, accuracy: 0.921875\n",
      "step: 1000, loss: 49.431381, accuracy: 0.937500\n"
     ]
    }
   ],
   "source": [
    "# Run training for the given number of steps.  - 运行给定步数的训练\n",
    "for step, (batch_x, batch_y) in enumerate(train_data.take(training_steps), 1):\n",
    "    # Run the optimization to update W and b values.\n",
    "    # 运行优化器更新 W 和 b 的值\n",
    "    run_optimization(batch_x, batch_y)\n",
    "    \n",
    "    if step % display_step == 0: # 每固定步数显示一次结果\n",
    "        pred = logistic_regression(batch_x)\n",
    "        loss = cross_entropy(pred, batch_y)\n",
    "        acc = accuracy(pred, batch_y)\n",
    "        print(\"step: %i, loss: %f, accuracy: %f\" % (step, loss, acc))"
   ]
  },
  {
   "cell_type": "markdown",
   "metadata": {},
   "source": [
    "## Save and Load with TF Checkpoint - 使用 TF Checkpoint 保存和读取"
   ]
  },
  {
   "cell_type": "code",
   "execution_count": 79,
   "metadata": {},
   "outputs": [],
   "source": [
    "# Save weights and optimizer variables. - 保存权重和优化器变量\n",
    "# Create a dict of variables to save. - 创建一个要保存的变量字典\n",
    "vars_to_save = {\"W\": W, \"b\": b, \"optimizer\": optimizer} # 这里只有一层, 所以只有 W 和 b\n",
    "# TF Checkpoint, pass the dict as **kwargs. - TF Checkpoint，将字典作为 **kwargs(关键字参数字典) 传递\n",
    "checkpoint = tf.train.Checkpoint(**vars_to_save)\n",
    "# TF CheckpointManager to manage saving parameters. - TF CheckpointManager 用于管理保存参数\n",
    "saver = tf.train.CheckpointManager(\n",
    "      checkpoint, directory=\"./tf-example\", max_to_keep=5)"
   ]
  },
  {
   "cell_type": "code",
   "execution_count": 80,
   "metadata": {},
   "outputs": [
    {
     "data": {
      "text/plain": [
       "'./tf-example\\\\ckpt-1'"
      ]
     },
     "execution_count": 80,
     "metadata": {},
     "output_type": "execute_result"
    }
   ],
   "source": [
    "# Save variables. - 保存变量\n",
    "saver.save()"
   ]
  },
  {
   "cell_type": "code",
   "execution_count": 81,
   "metadata": {},
   "outputs": [
    {
     "data": {
      "text/plain": [
       "-0.08043851"
      ]
     },
     "execution_count": 81,
     "metadata": {},
     "output_type": "execute_result"
    }
   ],
   "source": [
    "# Check weight value. - 看下权重值\n",
    "np.mean(W.numpy()) # 这里直接看了权重的均值"
   ]
  },
  {
   "cell_type": "code",
   "execution_count": 82,
   "metadata": {},
   "outputs": [],
   "source": [
    "# Reset variables to test restore. - 复原W和b变量, 测试从保存的文件中读取恢复\n",
    "W = tf.Variable(tf.random.normal([num_features, num_classes]), name=\"weight\")\n",
    "b = tf.Variable(tf.zeros([num_classes]), name=\"bias\")"
   ]
  },
  {
   "cell_type": "code",
   "execution_count": 83,
   "metadata": {},
   "outputs": [
    {
     "data": {
      "text/plain": [
       "0.009461794"
      ]
     },
     "execution_count": 83,
     "metadata": {},
     "output_type": "execute_result"
    }
   ],
   "source": [
    "# Check resetted weight value. - 看下原始的权重值均值\n",
    "np.mean(W.numpy())"
   ]
  },
  {
   "cell_type": "code",
   "execution_count": 84,
   "metadata": {},
   "outputs": [
    {
     "data": {
      "text/plain": [
       "<tensorflow.python.checkpoint.checkpoint.CheckpointLoadStatus at 0x29e2b898bf0>"
      ]
     },
     "execution_count": 84,
     "metadata": {},
     "output_type": "execute_result"
    }
   ],
   "source": [
    "# Set checkpoint to load data. - 创建一个checkpoint对象以加载数据\n",
    "vars_to_load = {\"W\": W, \"b\": b, \"optimizer\": optimizer}\n",
    "checkpoint = tf.train.Checkpoint(**vars_to_load)\n",
    "# Restore variables from latest checkpoint. - 从新的 checkpoint 恢复变量\n",
    "latest_ckpt = tf.train.latest_checkpoint(\"./tf-example\")\n",
    "checkpoint.restore(latest_ckpt) # 恢复"
   ]
  },
  {
   "cell_type": "code",
   "execution_count": 85,
   "metadata": {},
   "outputs": [
    {
     "data": {
      "text/plain": [
       "-0.08043851"
      ]
     },
     "execution_count": 85,
     "metadata": {},
     "output_type": "execute_result"
    }
   ],
   "source": [
    "# Confirm that W has been correctly restored. - 确认 W 已经正确恢复, 权重值均值和之前一样\n",
    "np.mean(W.numpy())"
   ]
  },
  {
   "cell_type": "markdown",
   "metadata": {},
   "source": [
    "## 2) TF Model\n",
    "\n",
    "Basic neural network with TF Model\n",
    "\n",
    "以一个简单的TensorFlow神经网络为例"
   ]
  },
  {
   "cell_type": "code",
   "execution_count": 86,
   "metadata": {},
   "outputs": [],
   "source": [
    "from keras import Model, layers"
   ]
  },
  {
   "cell_type": "code",
   "execution_count": 87,
   "metadata": {},
   "outputs": [],
   "source": [
    "# MNIST dataset parameters. - 数据集超参数\n",
    "num_classes = 10 # 0 to 9 digits - 数字种类, 0-9共10种\n",
    "num_features = 784 # 28*28 - 图片大小, 28*28=784 个特征\n",
    "\n",
    "# Training parameters. - 训练超参数\n",
    "learning_rate = 0.01\n",
    "training_steps = 1000\n",
    "batch_size = 256\n",
    "display_step = 100"
   ]
  },
  {
   "cell_type": "code",
   "execution_count": 88,
   "metadata": {},
   "outputs": [],
   "source": [
    "# Create TF Model. - 创建 TF 模型\n",
    "class NeuralNet(Model):\n",
    "    # Set layers. - 初始化层\n",
    "    def __init__(self):\n",
    "        super(NeuralNet, self).__init__(name=\"NeuralNet\")\n",
    "        # First fully-connected hidden layer. - 第一个全连接隐藏层\n",
    "        self.fc1 = layers.Dense(64, activation=tf.nn.relu)\n",
    "        # Second fully-connected hidden layer. - 第二个全连接隐藏层\n",
    "        self.fc2 = layers.Dense(128, activation=tf.nn.relu)\n",
    "        # Third fully-connecter hidden layer. - 第三个全连接隐藏层\n",
    "        self.out = layers.Dense(num_classes, activation=tf.nn.softmax)\n",
    "\n",
    "    # Set forward pass. - 前向传播方法\n",
    "    def __call__(self, x, is_training=False):\n",
    "        x = self.fc1(x)\n",
    "        x = self.out(x)\n",
    "        if not is_training:\n",
    "            # tf cross entropy expect logits without softmax, so only\n",
    "            # apply softmax when not training.\n",
    "            # tf 交叉熵期望没有 softmax 的 logits，所以只在不训练时应用 softmax\n",
    "            x = tf.nn.softmax(x)\n",
    "        return x\n",
    "\n",
    "# Build neural network model. - 构建神经网络模型\n",
    "neural_net = NeuralNet()"
   ]
  },
  {
   "cell_type": "code",
   "execution_count": 89,
   "metadata": {},
   "outputs": [],
   "source": [
    "# Cross-Entropy loss function. - 交叉熵损失函数\n",
    "def cross_entropy(y_pred, y_true):\n",
    "    y_true = tf.cast(y_true, tf.int64)\n",
    "    crossentropy = tf.nn.sparse_softmax_cross_entropy_with_logits(labels=y_true, logits=y_pred)\n",
    "    return tf.reduce_mean(crossentropy)\n",
    "\n",
    "# Accuracy metric. - 准确率评估方法\n",
    "def accuracy(y_pred, y_true):\n",
    "    # Predicted class is the index of highest score in prediction vector (i.e. argmax).\n",
    "    # 预测结果 是 预测结果向量 中得分最高的项的索引（即 argmax）\n",
    "    correct_prediction = tf.equal(tf.argmax(y_pred, 1), tf.cast(y_true, tf.int64))\n",
    "    return tf.reduce_mean(tf.cast(correct_prediction, tf.float32))\n",
    "\n",
    "# Adam optimizer.\n",
    "optimizer = tf.optimizers.Adam(learning_rate)"
   ]
  },
  {
   "cell_type": "code",
   "execution_count": 90,
   "metadata": {},
   "outputs": [],
   "source": [
    "# Optimization process.  - 优化过程\n",
    "def run_optimization(x, y):\n",
    "    # Wrap computation inside a GradientTape for automatic differentiation.\n",
    "    # 使用梯度带自动计算梯度\n",
    "    with tf.GradientTape() as g:\n",
    "        pred = neural_net(x, is_training=True)\n",
    "        loss = cross_entropy(pred, y)\n",
    "\n",
    "        # Compute gradients. - 计算梯度\n",
    "        gradients = g.gradient(loss, neural_net.trainable_variables)\n",
    "\n",
    "        # Update W and b following gradients. - 根据梯度更新 W 和 b\n",
    "        optimizer.apply_gradients(zip(gradients, neural_net.trainable_variables))"
   ]
  },
  {
   "cell_type": "code",
   "execution_count": 91,
   "metadata": {},
   "outputs": [
    {
     "name": "stdout",
     "output_type": "stream",
     "text": [
      "step: 100, loss: 2.186218, accuracy: 0.917969\n",
      "step: 200, loss: 2.182905, accuracy: 0.933594\n",
      "step: 300, loss: 2.180723, accuracy: 0.941406\n",
      "step: 400, loss: 2.178307, accuracy: 0.960938\n",
      "step: 500, loss: 2.177688, accuracy: 0.964844\n",
      "step: 600, loss: 2.182963, accuracy: 0.929688\n",
      "step: 700, loss: 2.174937, accuracy: 0.980469\n",
      "step: 800, loss: 2.178718, accuracy: 0.957031\n",
      "step: 900, loss: 2.176234, accuracy: 0.972656\n",
      "step: 1000, loss: 2.177423, accuracy: 0.960938\n"
     ]
    }
   ],
   "source": [
    "# Run training for the given number of steps. - 运行给定步数的训练\n",
    "for step, (batch_x, batch_y) in enumerate(train_data.take(training_steps), 1):\n",
    "    # Run the optimization to update W and b values.\n",
    "    # 运行优化器更新 W 和 b 的值\n",
    "    run_optimization(batch_x, batch_y)\n",
    "    \n",
    "    if step % display_step == 0:\n",
    "        pred = neural_net(batch_x, is_training=False)\n",
    "        loss = cross_entropy(pred, batch_y)\n",
    "        acc = accuracy(pred, batch_y)\n",
    "        print(\"step: %i, loss: %f, accuracy: %f\" % (step, loss, acc))"
   ]
  },
  {
   "cell_type": "markdown",
   "metadata": {},
   "source": [
    "## Save and Load with TF Model - 使用 TF Model 保存和读取"
   ]
  },
  {
   "cell_type": "code",
   "execution_count": 92,
   "metadata": {},
   "outputs": [],
   "source": [
    "# Save TF model. - 保存 TF 模型\n",
    "# neural_net.save_weights(filepath=\"./tfmodel.ckpt\") \n",
    "# 译者注: 2.17的TensorFlow中需要使用weights.h5的后缀\n",
    "neural_net.save_weights(filepath=\"./tfmodel.weights.h5\")\n"
   ]
  },
  {
   "cell_type": "code",
   "execution_count": 93,
   "metadata": {},
   "outputs": [
    {
     "name": "stdout",
     "output_type": "stream",
     "text": [
      "accuracy: 0.031250\n"
     ]
    }
   ],
   "source": [
    "# Re-build neural network model with default values.\n",
    "# 使用默认值重新构建神经网络模型(用于验证保存的模型是否正确)\n",
    "neural_net = NeuralNet()\n",
    "# Test model performance.\n",
    "# 测试模型性能\n",
    "pred = neural_net(batch_x)\n",
    "print(\"accuracy: %f\" % accuracy(pred, batch_y))\n",
    "# 可见准确率几乎为0, 说明模型还没有训练"
   ]
  },
  {
   "cell_type": "code",
   "execution_count": 94,
   "metadata": {},
   "outputs": [],
   "source": [
    "# Load saved weights. - 加载保存的权重\n",
    "neural_net.load_weights(filepath=\"./tfmodel.weights.h5\")"
   ]
  },
  {
   "cell_type": "code",
   "execution_count": 95,
   "metadata": {},
   "outputs": [
    {
     "name": "stdout",
     "output_type": "stream",
     "text": [
      "accuracy: 0.960938\n"
     ]
    }
   ],
   "source": [
    "# Test that weights loaded correctly. - 测试权重是否正确加载\n",
    "pred = neural_net(batch_x)\n",
    "print(\"accuracy: %f\" % accuracy(pred, batch_y))\n",
    "# 可见准确率已经接近1, 说明这个模型是训练过的,读取的结果是正确的"
   ]
  }
 ],
 "metadata": {
  "kernelspec": {
   "display_name": "Python 3",
   "language": "python",
   "name": "python3"
  },
  "language_info": {
   "codemirror_mode": {
    "name": "ipython",
    "version": 3
   },
   "file_extension": ".py",
   "mimetype": "text/x-python",
   "name": "python",
   "nbconvert_exporter": "python",
   "pygments_lexer": "ipython3",
   "version": "3.12.1"
  }
 },
 "nbformat": 4,
 "nbformat_minor": 2
}
