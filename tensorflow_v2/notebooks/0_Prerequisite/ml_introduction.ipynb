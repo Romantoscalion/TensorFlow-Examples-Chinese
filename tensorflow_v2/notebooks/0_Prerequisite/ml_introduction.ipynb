{
 "cells": [
  {
   "cell_type": "markdown",
   "metadata": {},
   "source": [
    "# Machine Learning - 机器学习\n",
    "\n",
    "Prior to start browsing the examples, it may be useful that you get familiar with machine learning, as TensorFlow is mostly used for machine learning tasks (especially Neural Networks). You can find below a list of useful links, that can give you the basic knowledge required for this TensorFlow Tutorial.\n",
    "\n",
    "在开始学示例之前，了解机器学习会对你有帮助，因为 TensorFlow 主要用于机器学习任务（尤其是神经网络）。你可以在下面找到一些有用的链接，这些链接可以为你提供学习 TensorFlow 教程所需的基本知识。\n",
    "\n",
    "\n",
    "## Machine Learning - 机器学习\n",
    "\n",
    "- [An Introduction to Machine Learning Theory and Its Applications: A Visual Tutorial with Examples - 机器学习理论及其应用介绍：带有示例的可视化教程](https://www.toptal.com/machine-learning/machine-learning-theory-an-introductory-primer)\n",
    "- [A Gentle Guide to Machine Learning - 机器学习初学者指南](https://blog.monkeylearn.com/a-gentle-guide-to-machine-learning/)\n",
    "- [A Visual Introduction to Machine Learning - 可视化的机器学习引入](http://www.r2d3.us/visual-intro-to-machine-learning-part-1/)\n",
    "- [Introduction to Machine Learning - 介绍机器学习](http://alex.smola.org/drafts/thebook.pdf)\n",
    "\n",
    "## Deep Learning & Neural Networks - 深度学习和神经网络\n",
    "\n",
    "- [An Introduction to Neural Networks - 神经网络介绍](http://www.cs.stir.ac.uk/~lss/NNIntro/InvSlides.html)\n",
    "- [An Introduction to Image Recognition with Deep Learning - 介绍一个基于深度学习的图像识别案例](https://medium.com/@ageitgey/machine-learning-is-fun-part-3-deep-learning-and-convolutional-neural-networks-f40359318721)\n",
    "- [Neural Networks and Deep Learning - 神经网络和深度学习](http://neuralnetworksanddeeplearning.com/index.html)\n",
    "\n"
   ]
  }
 ],
 "metadata": {
  "kernelspec": {
   "display_name": "Python 3",
   "language": "python",
   "name": "python3"
  },
  "language_info": {
   "codemirror_mode": {
    "name": "ipython",
    "version": 2
   },
   "file_extension": ".py",
   "mimetype": "text/x-python",
   "name": "python",
   "nbconvert_exporter": "python",
   "pygments_lexer": "ipython2",
   "version": "3.12.1"
  }
 },
 "nbformat": 4,
 "nbformat_minor": 0
}
